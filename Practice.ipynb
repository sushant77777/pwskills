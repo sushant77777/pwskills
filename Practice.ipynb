{
  "nbformat": 4,
  "nbformat_minor": 0,
  "metadata": {
    "colab": {
      "provenance": []
    },
    "kernelspec": {
      "name": "python3",
      "display_name": "Python 3"
    },
    "language_info": {
      "name": "python"
    }
  },
  "cells": [
    {
      "cell_type": "code",
      "execution_count": 3,
      "metadata": {
        "id": "h4hgQYr5vuWq"
      },
      "outputs": [],
      "source": [
        "#select* from surya;"
      ]
    },
    {
      "cell_type": "markdown",
      "source": [
        "# questions\n",
        "\n",
        "1. how are you?\n",
        "-> my name is sushant\n",
        "\n",
        "2. how are you ?\n",
        "-> i am fine ."
      ],
      "metadata": {
        "id": "esFjbLrQwVU7"
      }
    },
    {
      "cell_type": "markdown",
      "source": [],
      "metadata": {
        "id": "B7Xi7mFKwNhx"
      }
    }
  ]
}